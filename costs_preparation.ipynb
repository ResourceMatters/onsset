{
 "cells": [
  {
   "cell_type": "markdown",
   "id": "e7448d96",
   "metadata": {},
   "source": [
    "# Prepare cost raster\n",
    "\n",
    "This notebook is used to prepare the cost rasters required to run the updated grid routing algorithm developed for DRC. The cost raster divides the country into raster cells of a chosen resolution (e.g. 50-200m). Each raster cell represents the \"cost\" of traversing it while constructing a new grid line, where *1* is the best cost, and raster cells with a higher value are harder (more expensive) to cross. \n",
    "\n",
    "The final cost layer is made up from the combination of 5 different costs layers, based on a review of the existing literature. These layers are:\n",
    "* Roads (it's easiest to construct new grid lines along existing roads)\n",
    "* Rivers (it's harder to cross rivers)\n",
    "* Water bodies (it's harder to cross water bodies)\n",
    "* Slope (it's harder to construct power lines at steep slopes)\n",
    "* Power lines (outlining the existing power lines)\n",
    "\n"
   ]
  },
  {
   "cell_type": "markdown",
   "id": "c2022a30",
   "metadata": {},
   "source": [
    "#### First import the neccessary packages"
   ]
  },
  {
   "cell_type": "code",
   "execution_count": null,
   "id": "07b8a474",
   "metadata": {},
   "outputs": [],
   "source": [
    "import fiona\n",
    "import rasterio\n",
    "import rasterio.mask\n",
    "from rasterio.features import rasterize\n",
    "from rasterio.transform import from_bounds\n",
    "from rasterio.warp import calculate_default_transform, reproject, Resampling\n",
    "import geopandas as gpd\n",
    "import json\n",
    "import richdem as rd\n",
    "from shapely.geometry import box\n",
    "from shapely.geometry import shape, mapping\n",
    "import pandas as pd\n",
    "import numpy as np\n",
    "from geopandas import clip\n",
    "import scipy\n",
    "import scipy.spatial\n",
    "import datetime\n",
    "import numba\n",
    "import os\n",
    "import tkinter as tk\n",
    "from tkinter import filedialog, messagebox\n",
    "from osgeo import gdal\n",
    "root = tk.Tk()\n",
    "root.withdraw()\n",
    "root.attributes(\"-topmost\", True)\n",
    "\n",
    "%matplotlib inline\n",
    "%load_ext line_profiler\n",
    "\n",
    "import warnings\n",
    "warnings.filterwarnings('ignore')"
   ]
  },
  {
   "cell_type": "markdown",
   "id": "dfd5f115",
   "metadata": {},
   "source": [
    "#### Define the workspace to save data in"
   ]
  },
  {
   "cell_type": "code",
   "execution_count": null,
   "id": "a3dd78b5",
   "metadata": {},
   "outputs": [],
   "source": [
    "messagebox.showinfo('OnSSET', 'Browse to the folder where you want to save the outputs')\n",
    "\n",
    "workspace = filedialog.askdirectory()"
   ]
  },
  {
   "cell_type": "markdown",
   "id": "3910539a",
   "metadata": {},
   "source": [
    "#### Select the grid you are working with\n",
    "\n",
    "Must be named **'Est'**, **'Sud'** or **'Ouest'**"
   ]
  },
  {
   "cell_type": "code",
   "execution_count": null,
   "id": "dee3c37a",
   "metadata": {},
   "outputs": [],
   "source": [
    "grid = 'Ouest'"
   ]
  },
  {
   "cell_type": "markdown",
   "id": "6ce9fecb",
   "metadata": {},
   "source": [
    "#### Define the target coordinate reference system (CRS) - should be in meters"
   ]
  },
  {
   "cell_type": "code",
   "execution_count": null,
   "id": "53cbef9a",
   "metadata": {},
   "outputs": [],
   "source": [
    "crs = 'EPSG:3395'"
   ]
  },
  {
   "cell_type": "markdown",
   "id": "1af07eb0",
   "metadata": {},
   "source": [
    "#### Next, open the polygon of your study area (shapefile)\n",
    "\n",
    "The national boundary can be retrieved for countries from e.g. https://gadm.org/.\n",
    "Note that for DRC, we create the cost raster for the three areas, extending e.g. 50 km from the existing grid lines, rather than for the whole country, in order toreduce computational time. These boundaries are found in the **gis_data** folder for the three grids"
   ]
  },
  {
   "cell_type": "code",
   "execution_count": null,
   "id": "3bfe1afa",
   "metadata": {},
   "outputs": [],
   "source": [
    "messagebox.showinfo('OnSSET', 'Open the polygon of the study area of the selected grid')\n",
    "boundaries_path = filedialog.askopenfilename()\n",
    "\n",
    "boundaries = gpd.read_file(boundaries_path).to_crs(crs)"
   ]
  },
  {
   "cell_type": "markdown",
   "id": "d906b19a",
   "metadata": {},
   "source": [
    "#### In the next step, we create a raster of the study\n",
    "\n",
    "First, define the resolution. Then run the second cell as well just as it is."
   ]
  },
  {
   "cell_type": "code",
   "execution_count": null,
   "id": "790c9758",
   "metadata": {},
   "outputs": [],
   "source": [
    "resolution = 50 # meters (same unit as your crs)"
   ]
  },
  {
   "cell_type": "code",
   "execution_count": null,
   "id": "62f621de",
   "metadata": {},
   "outputs": [],
   "source": [
    "total_bounds = boundaries['geometry'].total_bounds\n",
    "width = round((total_bounds[3] - total_bounds[1])/resolution)\n",
    "height = round((total_bounds[2] - total_bounds[0])/resolution)\n",
    "\n",
    "path =  workspace + '/' + grid + '_raster.tif'\n",
    "\n",
    "shape =  height, width\n",
    "transform = rasterio.transform.from_bounds(*boundaries['geometry'].total_bounds, shape[0], shape[1])\n",
    "rasterized = rasterize(\n",
    "    [(shape) for shape in boundaries['geometry']],\n",
    "    out_shape=(width, height),\n",
    "    transform=transform,\n",
    "    all_touched=True,\n",
    "    dtype=rasterio.uint8)\n",
    "\n",
    "try:\n",
    "    raster.close()\n",
    "    os.remove(path)\n",
    "except (FileNotFoundError, NameError):\n",
    "    pass\n",
    "\n",
    "with rasterio.open(\n",
    "    path, 'w',\n",
    "    driver='GTiff',\n",
    "    dtype=rasterio.uint8,\n",
    "    count=1,\n",
    "    crs = crs,\n",
    "    width=shape[0],\n",
    "    height=shape[1],\n",
    "    transform=transform,\n",
    "    nodata = 0\n",
    ") as dst:\n",
    "    dst.write(rasterized, indexes=1)\n",
    "    \n",
    "raster = rasterio.open(path)\n",
    "\n",
    "shape = raster.shape\n",
    "affine = raster.transform\n",
    "\n",
    "out_meta = raster.meta\n",
    "\n",
    "out_meta.update({\"driver\": \"GTiff\",\n",
    "                 \"height\": raster.height,\n",
    "                 \"width\": raster.width,\n",
    "                 \"transform\": raster.transform,\n",
    "                 'compress': 'NONE',\n",
    "                 'dtype': rasterio.float32,\n",
    "                 \"crs\": raster.crs,\n",
    "                 'nodata': 9999})"
   ]
  },
  {
   "cell_type": "markdown",
   "id": "5ed8e990",
   "metadata": {},
   "source": [
    "#### Create cost layer from roads\n",
    "\n",
    "Roads with the correct attributes can be retrieved from Open Street Map through Geofabrik: https://download.geofabrik.de/africa/congo-democratic-republic.html "
   ]
  },
  {
   "cell_type": "code",
   "execution_count": null,
   "id": "adb6a208",
   "metadata": {},
   "outputs": [],
   "source": [
    "messagebox.showinfo('OnSSET', 'Open the roads shapefile for the country')\n",
    "roads_path = filedialog.askopenfilename()\n",
    "\n",
    "roads = gpd.read_file(roads_path, mask=boundaries).to_crs(crs)"
   ]
  },
  {
   "cell_type": "code",
   "execution_count": null,
   "id": "4f85d8db",
   "metadata": {},
   "outputs": [],
   "source": [
    "roads[\"weight\"] = 99\n",
    "\n",
    "# Here you define the weight of different types of roads. Lower values are more favorable for grid extension.\n",
    "roads.loc[roads[\"fclass\"] == \"motorway\", \"weight\"] = 1\n",
    "roads.loc[roads[\"fclass\"] == \"trunk\", \"weight\"] = 1\n",
    "roads.loc[roads[\"fclass\"] == \"primary\", \"weight\"] = 1\n",
    "roads.loc[roads[\"fclass\"] == \"secondary\", \"weight\"] = 1 \n",
    "roads.loc[roads[\"fclass\"] == \"tertiary\", \"weight\"] = 2\n",
    "roads.loc[roads[\"fclass\"] == \"unclassified\", \"weight\"] = 2\n",
    "roads.loc[roads[\"fclass\"] == \"residential\", \"weight\"] = 2\n",
    "roads.loc[roads[\"fclass\"] == \"service\", \"weight\"] = 2\n",
    "\n",
    "roads = roads[roads.weight != 99]\n",
    "\n",
    "roads = roads.sort_values(by=\"weight\", ascending=False)\n",
    "\n",
    "roads_for_raster = [(row.geometry, row.weight) for _, row in roads.iterrows()]\n",
    "\n",
    "roads_raster = rasterize(\n",
    "        roads_for_raster,\n",
    "        out_shape=shape,\n",
    "        fill=99,\n",
    "        default_value=99,\n",
    "        all_touched=True,\n",
    "        transform=affine,\n",
    "    )\n",
    "\n",
    "#with rasterio.open(workspace + '/' + grid + '_roads_cost.tif', 'w', **out_meta) as dst:\n",
    "#    dst.write(roads_raster, indexes=1)"
   ]
  },
  {
   "cell_type": "markdown",
   "id": "6bf93ae2",
   "metadata": {},
   "source": [
    "#### Create cost layer from power lines"
   ]
  },
  {
   "cell_type": "code",
   "execution_count": null,
   "id": "c6f16c65",
   "metadata": {},
   "outputs": [],
   "source": [
    "messagebox.showinfo('OnSSET', 'Open the existing grid shapefile for the country')\n",
    "power_path = filedialog.askopenfilename()\n",
    "\n",
    "power = gpd.read_file(power_path, mask=boundaries).to_crs(crs)"
   ]
  },
  {
   "cell_type": "code",
   "execution_count": 25,
   "id": "9fc5494f",
   "metadata": {},
   "outputs": [],
   "source": [
    "# The weight of the power raster should be set to 0, indicating that this is the starting point for the new grid extension algorithm\n",
    "power['weight'] = 0\n",
    "\n",
    "power_for_raster = [(row.geometry, row.weight) for _, row in power.iterrows()]\n",
    "\n",
    "power_raster = rasterize(\n",
    "        power_for_raster,\n",
    "        out_shape=shape,\n",
    "        fill=999,\n",
    "        default_value=0,\n",
    "        all_touched=True,\n",
    "        transform=affine,\n",
    "    )\n",
    "\n",
    "with rasterio.open(workspace + '/' + grid + '_power_cost.tif', 'w', **out_meta) as dst:\n",
    "    dst.write(power_raster, indexes=1)"
   ]
  },
  {
   "cell_type": "markdown",
   "id": "b243f8ec",
   "metadata": {},
   "source": [
    "#### Create cost layer from water bodies (lakes etc.)\n",
    "\n",
    "Water bodies can be retrieved e.g. from https://energydata.info/dataset/africa-water-bodies-2015"
   ]
  },
  {
   "cell_type": "code",
   "execution_count": null,
   "id": "93d4526d",
   "metadata": {},
   "outputs": [],
   "source": [
    "messagebox.showinfo('OnSSET', 'Open the water bodies shapefile for the country')\n",
    "waters_path = filedialog.askopenfilename()\n",
    "\n",
    "waters = gpd.read_file(waters_path, mask=boundaries).to_crs(crs)"
   ]
  },
  {
   "cell_type": "code",
   "execution_count": null,
   "id": "e6792058",
   "metadata": {},
   "outputs": [],
   "source": [
    "# Here you define the weight of water bodies\n",
    "waters['weight'] = 99\n",
    "\n",
    "waters_for_raster = [(row.geometry, row.weight) for _, row in waters.iterrows()]\n",
    "\n",
    "\n",
    "if len(waters_for_raster) > 0:\n",
    "    waters_raster = rasterize(\n",
    "            waters_for_raster,\n",
    "            out_shape=shape,\n",
    "            fill=0,\n",
    "            default_value=0,\n",
    "            all_touched=True,\n",
    "            transform=affine,\n",
    "        )\n",
    "else:\n",
    "    waters_raster = power_raster * 0\n",
    "\n",
    "#with rasterio.open(workspace + '/' + grid + '_waters_cost.tif', 'w', **out_meta) as dst:\n",
    "#    dst.write(waters_raster, indexes=1)"
   ]
  },
  {
   "cell_type": "markdown",
   "id": "aeadee8e",
   "metadata": {},
   "source": [
    "#### Create cost layer from elevation/slope\n",
    "\n",
    "Elevation data can be retrieved from https://developers.google.com/earth-engine/datasets/catalog/CGIAR_SRTM90_V4 or https://www.diva-gis.org/gdata for V3 SRTM data by country.\n",
    "\n",
    "This dataset is then used to create the slope layer.\n",
    "First, select the elevation (DEM) layer. Next, define the weights assigned to different slopes."
   ]
  },
  {
   "cell_type": "code",
   "execution_count": null,
   "id": "83fae814",
   "metadata": {},
   "outputs": [],
   "source": [
    "messagebox.showinfo('OnSSET', 'Open the elevation raster for the grid region')\n",
    "dem_path = filedialog.askopenfilename()"
   ]
  },
  {
   "cell_type": "code",
   "execution_count": null,
   "id": "e7d38745",
   "metadata": {},
   "outputs": [],
   "source": [
    "slope_weights = {5: 1,       # I.e. all slopes less than 5 degrees have a multiplier of 1\n",
    "                 10: 1.25,    # I.e. all slopes between 5 and 10 degrees have a multiplier of 1.5\n",
    "                 20: 1.5,\n",
    "                 9999: 2}"
   ]
  },
  {
   "cell_type": "code",
   "execution_count": null,
   "id": "07a4cf66",
   "metadata": {},
   "outputs": [],
   "source": [
    "def processing_elevation_and_slope(workspace, crs, dem_path):\n",
    "    raster=rasterio.open(dem_path)\n",
    "\n",
    "    gdal.Warp(workspace + r\"\\dem.tif\", raster.name, dstSRS=crs)\n",
    "\n",
    "    def calculate_slope(DEM):\n",
    "        gdal.DEMProcessing(workspace + r'\\slope.tif', DEM, 'slope')\n",
    "        with rasterio.open(workspace + r'\\slope.tif') as dataset:\n",
    "            slope=dataset.read(1)\n",
    "        return slope\n",
    "\n",
    "    slope=calculate_slope(workspace + r\"\\dem.tif\")\n",
    "\n",
    "    slope = rasterio.open(workspace + r'\\slope.tif')\n",
    "    \n",
    "    return slope\n",
    "    \n",
    "slope = processing_elevation_and_slope(workspace, 'EPSG:3395', dem_path)\n",
    "\n",
    "slope_values = slope.read(1)\n",
    "slope_meta = slope.meta\n",
    "\n",
    "destination = np.ones((out_meta['height'], out_meta['width'])) *  999\n",
    "\n",
    "slope, slope_affine = reproject(\n",
    "    source=slope_values,\n",
    "    destination=destination,\n",
    "    src_transform=slope_meta['transform'],\n",
    "    src_crs=slope_meta['crs'],\n",
    "    dst_transform=out_meta['transform'],\n",
    "    dst_crs=crs,\n",
    "    resampling=Resampling['nearest'])\n",
    "\n",
    "with rasterio.open(workspace + '/' + grid + '_slope.tif', 'w', **out_meta) as dst:\n",
    "    dst.write(slope, indexes=1)\n",
    "\n",
    "slope_reclassified = np.ones((out_meta['height'], out_meta['width']))\n",
    "\n",
    "prev_key = 0\n",
    "\n",
    "for key, value in zip(slope_weights.keys(), slope_weights.values()):\n",
    "    slope_reclassified = np.where((slope < key) & (slope >= prev_key), value, slope_reclassified)\n",
    "    prev_key = key\n",
    "    \n",
    "#with rasterio.open(workspace + '/' + grid + '_slope_cost.tif', 'w', **out_meta) as dst:\n",
    "#    dst.write(slope_reclassified, indexes=1)"
   ]
  },
  {
   "cell_type": "markdown",
   "id": "e736ff58",
   "metadata": {},
   "source": [
    "#### Land cover\n",
    "\n",
    "Land cover data can be downloaded from https://www.arcgis.com/apps/instant/media/index.html?appid=fc92d38533d440078f17678ebc20e8e2\n",
    "\n",
    "The ESRI 2021 Land Cover V2 data comes in 10m resolution and has the following classes (available at https://planetarycomputer.microsoft.com/dataset/io-lulc-9-class):\n",
    "* 0: No data\n",
    "* 1: Water\n",
    "* 2: Trees\n",
    "* 4: Flooded vegetation\n",
    "* 5: Crops\n",
    "* 7: Built area\n",
    "* 8: Bare ground\n",
    "* 9: Snow/Ice\n",
    "* 10: Clouds\n",
    "* 11: Rangeland (Scrub/Shrub)"
   ]
  },
  {
   "cell_type": "code",
   "execution_count": null,
   "id": "9704eeb7",
   "metadata": {},
   "outputs": [],
   "source": [
    "messagebox.showinfo('OnSSET', 'Open the land cover raster for the grid region')\n",
    "land_cover_path = filedialog.askopenfilename()"
   ]
  },
  {
   "cell_type": "code",
   "execution_count": null,
   "id": "3093ab32",
   "metadata": {},
   "outputs": [],
   "source": [
    "# Define the weights for the different land cover types here\n",
    "\n",
    "land_cover_weights = {0: 3,     # No data cells have a weight of 3\n",
    "                      1: 20,    # Water cells have a weight of 10\n",
    "                      2: 4,     # Trees have a weight of 3\n",
    "                      4: 10,     # ...\n",
    "                      5: 3,\n",
    "                      7: 5,\n",
    "                      8: 3,\n",
    "                      9: 10,\n",
    "                      10: 3,\n",
    "                      11: 3}\n",
    "                      "
   ]
  },
  {
   "cell_type": "code",
   "execution_count": null,
   "id": "c8ac6e69",
   "metadata": {},
   "outputs": [],
   "source": [
    "with rasterio.open(land_cover_path) as lc:\n",
    "        land_cover = lc.read(1)\n",
    "        land_cover_meta = lc.meta\n",
    "\n",
    "destination = np.ones((out_meta['height'], out_meta['width'])) *  out_meta['nodata']\n",
    "\n",
    "lc, lc_affine = reproject(\n",
    "    source=land_cover,\n",
    "    destination=destination,\n",
    "    src_transform=land_cover_meta['transform'],\n",
    "    src_crs=land_cover_meta['crs'],\n",
    "    dst_transform=out_meta['transform'],\n",
    "    dst_crs=crs,\n",
    "    resampling=Resampling['min'])\n",
    "\n",
    "lc_reclassified = np.ones((out_meta['height'], out_meta['width']))\n",
    "\n",
    "for key, value in zip(land_cover_weights.keys(), land_cover_weights.values()):\n",
    "    lc_reclassified = np.where(lc == key, value, lc_reclassified)\n",
    "    \n",
    "#with rasterio.open(workspace + '/' + grid + '_land_cover_cost.tif', 'w', **out_meta) as dst:\n",
    "#    dst.write(lc_reclassified, indexes=1)"
   ]
  },
  {
   "cell_type": "markdown",
   "id": "089c701d",
   "metadata": {},
   "source": [
    "#### Create final cost layer"
   ]
  },
  {
   "cell_type": "code",
   "execution_count": null,
   "id": "8a0d6347",
   "metadata": {},
   "outputs": [],
   "source": [
    "costs = np.where(roads_raster < 99, roads_raster, lc_reclassified)\n",
    "costs = costs * slope_reclassified\n",
    "costs = np.where(waters_raster == 99, waters_raster, costs)\n",
    "costs = np.where(rasterized == 0, 9999, costs)\n",
    "\n",
    "with rasterio.open(workspace + '/' + grid + '_final_cost.tif', 'w', **out_meta) as dst:\n",
    "    dst.write(costs, indexes=1)"
   ]
  },
  {
   "cell_type": "code",
   "execution_count": null,
   "id": "52c602d9",
   "metadata": {},
   "outputs": [],
   "source": []
  },
  {
   "cell_type": "code",
   "execution_count": null,
   "id": "000f2a65",
   "metadata": {},
   "outputs": [],
   "source": []
  }
 ],
 "metadata": {
  "kernelspec": {
   "display_name": "Python 3 (ipykernel)",
   "language": "python",
   "name": "python3"
  },
  "language_info": {
   "codemirror_mode": {
    "name": "ipython",
    "version": 3
   },
   "file_extension": ".py",
   "mimetype": "text/x-python",
   "name": "python",
   "nbconvert_exporter": "python",
   "pygments_lexer": "ipython3",
   "version": "3.9.7"
  }
 },
 "nbformat": 4,
 "nbformat_minor": 5
}
